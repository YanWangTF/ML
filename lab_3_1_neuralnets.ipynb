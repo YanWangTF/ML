{
  "cells": [
    {
      "cell_type": "markdown",
      "metadata": {
        "id": "vk0LoqhRIhuT"
      },
      "source": [
        "[![Open In Colab](https://colab.research.google.com/assets/colab-badge.svg)](https://colab.research.google.com/github/eldanc/mlbootcamp2023/blob/main/lab_3_1_neuralnets.ipynb)\n",
        "\n",
        "# UofT FASE ML Bootcamp\n",
        "#### Wednesday June 21, 2023\n",
        "#### Intro to Neural Networks in PyTorch - Lab 1, Day 3\n",
        "#### Teaching team: Eldan Cohen, Alex Olson, Nakul Upadhya, Shehnaz Islam\n",
        "##### Lab author: Kyle E. C. Booth, kbooth@mie.utoronto.ca, edited by Jake Mosseri"
      ]
    },
    {
      "cell_type": "markdown",
      "metadata": {
        "id": "IWWYgttBIhuX"
      },
      "source": [
        "In this lab, we will be taking our first look at developing our own *neural networks* (NN) with [PyTorch](https://pytorch.org/), probably the most popular machine learning library for working with NNs."
      ]
    },
    {
      "cell_type": "code",
      "execution_count": 1,
      "metadata": {
        "id": "LWQyyScGIhuY",
        "outputId": "51c2c179-8a8a-41c9-8740-8649c14effc1",
        "colab": {
          "base_uri": "https://localhost:8080/"
        }
      },
      "outputs": [
        {
          "output_type": "stream",
          "name": "stdout",
          "text": [
            "Looking in indexes: https://pypi.org/simple, https://us-python.pkg.dev/colab-wheels/public/simple/\n",
            "Requirement already satisfied: torch in /usr/local/lib/python3.10/dist-packages (2.0.1+cu118)\n",
            "Requirement already satisfied: torchvision in /usr/local/lib/python3.10/dist-packages (0.15.2+cu118)\n",
            "Requirement already satisfied: torchaudio in /usr/local/lib/python3.10/dist-packages (2.0.2+cu118)\n",
            "Requirement already satisfied: filelock in /usr/local/lib/python3.10/dist-packages (from torch) (3.12.0)\n",
            "Requirement already satisfied: typing-extensions in /usr/local/lib/python3.10/dist-packages (from torch) (4.5.0)\n",
            "Requirement already satisfied: sympy in /usr/local/lib/python3.10/dist-packages (from torch) (1.11.1)\n",
            "Requirement already satisfied: networkx in /usr/local/lib/python3.10/dist-packages (from torch) (3.1)\n",
            "Requirement already satisfied: jinja2 in /usr/local/lib/python3.10/dist-packages (from torch) (3.1.2)\n",
            "Requirement already satisfied: triton==2.0.0 in /usr/local/lib/python3.10/dist-packages (from torch) (2.0.0)\n",
            "Requirement already satisfied: cmake in /usr/local/lib/python3.10/dist-packages (from triton==2.0.0->torch) (3.25.2)\n",
            "Requirement already satisfied: lit in /usr/local/lib/python3.10/dist-packages (from triton==2.0.0->torch) (16.0.5)\n",
            "Requirement already satisfied: numpy in /usr/local/lib/python3.10/dist-packages (from torchvision) (1.22.4)\n",
            "Requirement already satisfied: requests in /usr/local/lib/python3.10/dist-packages (from torchvision) (2.27.1)\n",
            "Requirement already satisfied: pillow!=8.3.*,>=5.3.0 in /usr/local/lib/python3.10/dist-packages (from torchvision) (8.4.0)\n",
            "Requirement already satisfied: MarkupSafe>=2.0 in /usr/local/lib/python3.10/dist-packages (from jinja2->torch) (2.1.2)\n",
            "Requirement already satisfied: urllib3<1.27,>=1.21.1 in /usr/local/lib/python3.10/dist-packages (from requests->torchvision) (1.26.15)\n",
            "Requirement already satisfied: certifi>=2017.4.17 in /usr/local/lib/python3.10/dist-packages (from requests->torchvision) (2022.12.7)\n",
            "Requirement already satisfied: charset-normalizer~=2.0.0 in /usr/local/lib/python3.10/dist-packages (from requests->torchvision) (2.0.12)\n",
            "Requirement already satisfied: idna<4,>=2.5 in /usr/local/lib/python3.10/dist-packages (from requests->torchvision) (3.4)\n",
            "Requirement already satisfied: mpmath>=0.19 in /usr/local/lib/python3.10/dist-packages (from sympy->torch) (1.3.0)\n",
            "Looking in indexes: https://pypi.org/simple, https://us-python.pkg.dev/colab-wheels/public/simple/\n",
            "Requirement already satisfied: numpy in /usr/local/lib/python3.10/dist-packages (1.22.4)\n",
            "Looking in indexes: https://pypi.org/simple, https://us-python.pkg.dev/colab-wheels/public/simple/\n",
            "Requirement already satisfied: pandas in /usr/local/lib/python3.10/dist-packages (1.5.3)\n",
            "Requirement already satisfied: python-dateutil>=2.8.1 in /usr/local/lib/python3.10/dist-packages (from pandas) (2.8.2)\n",
            "Requirement already satisfied: pytz>=2020.1 in /usr/local/lib/python3.10/dist-packages (from pandas) (2022.7.1)\n",
            "Requirement already satisfied: numpy>=1.21.0 in /usr/local/lib/python3.10/dist-packages (from pandas) (1.22.4)\n",
            "Requirement already satisfied: six>=1.5 in /usr/local/lib/python3.10/dist-packages (from python-dateutil>=2.8.1->pandas) (1.16.0)\n",
            "Looking in indexes: https://pypi.org/simple, https://us-python.pkg.dev/colab-wheels/public/simple/\n",
            "Requirement already satisfied: matplotlib in /usr/local/lib/python3.10/dist-packages (3.7.1)\n",
            "Requirement already satisfied: contourpy>=1.0.1 in /usr/local/lib/python3.10/dist-packages (from matplotlib) (1.0.7)\n",
            "Requirement already satisfied: cycler>=0.10 in /usr/local/lib/python3.10/dist-packages (from matplotlib) (0.11.0)\n",
            "Requirement already satisfied: fonttools>=4.22.0 in /usr/local/lib/python3.10/dist-packages (from matplotlib) (4.39.3)\n",
            "Requirement already satisfied: kiwisolver>=1.0.1 in /usr/local/lib/python3.10/dist-packages (from matplotlib) (1.4.4)\n",
            "Requirement already satisfied: numpy>=1.20 in /usr/local/lib/python3.10/dist-packages (from matplotlib) (1.22.4)\n",
            "Requirement already satisfied: packaging>=20.0 in /usr/local/lib/python3.10/dist-packages (from matplotlib) (23.1)\n",
            "Requirement already satisfied: pillow>=6.2.0 in /usr/local/lib/python3.10/dist-packages (from matplotlib) (8.4.0)\n",
            "Requirement already satisfied: pyparsing>=2.3.1 in /usr/local/lib/python3.10/dist-packages (from matplotlib) (3.0.9)\n",
            "Requirement already satisfied: python-dateutil>=2.7 in /usr/local/lib/python3.10/dist-packages (from matplotlib) (2.8.2)\n",
            "Requirement already satisfied: six>=1.5 in /usr/local/lib/python3.10/dist-packages (from python-dateutil>=2.7->matplotlib) (1.16.0)\n",
            "Looking in indexes: https://pypi.org/simple, https://us-python.pkg.dev/colab-wheels/public/simple/\n",
            "Requirement already satisfied: scikit-learn in /usr/local/lib/python3.10/dist-packages (1.2.2)\n",
            "Requirement already satisfied: numpy>=1.17.3 in /usr/local/lib/python3.10/dist-packages (from scikit-learn) (1.22.4)\n",
            "Requirement already satisfied: scipy>=1.3.2 in /usr/local/lib/python3.10/dist-packages (from scikit-learn) (1.10.1)\n",
            "Requirement already satisfied: joblib>=1.1.1 in /usr/local/lib/python3.10/dist-packages (from scikit-learn) (1.2.0)\n",
            "Requirement already satisfied: threadpoolctl>=2.0.0 in /usr/local/lib/python3.10/dist-packages (from scikit-learn) (3.1.0)\n"
          ]
        }
      ],
      "source": [
        "!pip install torch torchvision torchaudio\n",
        "!pip install numpy\n",
        "!pip install pandas\n",
        "!pip install matplotlib\n",
        "!pip install scikit-learn\n",
        "\n",
        "import numpy as np\n",
        "import pandas as pd"
      ]
    },
    {
      "cell_type": "markdown",
      "metadata": {
        "id": "6Cj0g_bBIhuZ"
      },
      "source": [
        "### An Intuitive Intro to Neural Nets\n",
        "\n",
        "In today's lab, we're going to start with an intuitive exercise on the Titanic dataset using Logistic Regression and a simple Neural Network before moving onto some more complex stuff. Let's start by loading our dataset.\n",
        "\n",
        "Remember, the Titanic data is stored in a CSV file (located in the 'data' directory of your root folder), so we need to use Pandas to load the data and then separate it into our X (features) and y (target). We also need to: i) drop unimportant columns, and ii) impute missing values.\n",
        "\n",
        "We're going to do this all in the next cell - refer to the decision tree lab from yesterday for the detailed steps."
      ]
    },
    {
      "cell_type": "code",
      "execution_count": 3,
      "metadata": {
        "id": "YYb9noojIhua",
        "outputId": "9288c0b8-b3cd-4c14-f957-ca1f36ad5b92",
        "colab": {
          "base_uri": "https://localhost:8080/",
          "height": 204
        }
      },
      "outputs": [
        {
          "output_type": "execute_result",
          "data": {
            "text/plain": [
              "   pclass  survived  sex      age  sibsp  parch      fare\n",
              "0       1         1    0  29.0000      0      0  211.3375\n",
              "1       1         1    1   0.9167      1      2  151.5500\n",
              "2       1         0    0   2.0000      1      2  151.5500\n",
              "3       1         0    1  30.0000      1      2  151.5500\n",
              "4       1         0    0  25.0000      1      2  151.5500"
            ],
            "text/html": [
              "\n",
              "  <div id=\"df-c8a96bb4-3085-4423-9c03-3213dee7c330\">\n",
              "    <div class=\"colab-df-container\">\n",
              "      <div>\n",
              "<style scoped>\n",
              "    .dataframe tbody tr th:only-of-type {\n",
              "        vertical-align: middle;\n",
              "    }\n",
              "\n",
              "    .dataframe tbody tr th {\n",
              "        vertical-align: top;\n",
              "    }\n",
              "\n",
              "    .dataframe thead th {\n",
              "        text-align: right;\n",
              "    }\n",
              "</style>\n",
              "<table border=\"1\" class=\"dataframe\">\n",
              "  <thead>\n",
              "    <tr style=\"text-align: right;\">\n",
              "      <th></th>\n",
              "      <th>pclass</th>\n",
              "      <th>survived</th>\n",
              "      <th>sex</th>\n",
              "      <th>age</th>\n",
              "      <th>sibsp</th>\n",
              "      <th>parch</th>\n",
              "      <th>fare</th>\n",
              "    </tr>\n",
              "  </thead>\n",
              "  <tbody>\n",
              "    <tr>\n",
              "      <th>0</th>\n",
              "      <td>1</td>\n",
              "      <td>1</td>\n",
              "      <td>0</td>\n",
              "      <td>29.0000</td>\n",
              "      <td>0</td>\n",
              "      <td>0</td>\n",
              "      <td>211.3375</td>\n",
              "    </tr>\n",
              "    <tr>\n",
              "      <th>1</th>\n",
              "      <td>1</td>\n",
              "      <td>1</td>\n",
              "      <td>1</td>\n",
              "      <td>0.9167</td>\n",
              "      <td>1</td>\n",
              "      <td>2</td>\n",
              "      <td>151.5500</td>\n",
              "    </tr>\n",
              "    <tr>\n",
              "      <th>2</th>\n",
              "      <td>1</td>\n",
              "      <td>0</td>\n",
              "      <td>0</td>\n",
              "      <td>2.0000</td>\n",
              "      <td>1</td>\n",
              "      <td>2</td>\n",
              "      <td>151.5500</td>\n",
              "    </tr>\n",
              "    <tr>\n",
              "      <th>3</th>\n",
              "      <td>1</td>\n",
              "      <td>0</td>\n",
              "      <td>1</td>\n",
              "      <td>30.0000</td>\n",
              "      <td>1</td>\n",
              "      <td>2</td>\n",
              "      <td>151.5500</td>\n",
              "    </tr>\n",
              "    <tr>\n",
              "      <th>4</th>\n",
              "      <td>1</td>\n",
              "      <td>0</td>\n",
              "      <td>0</td>\n",
              "      <td>25.0000</td>\n",
              "      <td>1</td>\n",
              "      <td>2</td>\n",
              "      <td>151.5500</td>\n",
              "    </tr>\n",
              "  </tbody>\n",
              "</table>\n",
              "</div>\n",
              "      <button class=\"colab-df-convert\" onclick=\"convertToInteractive('df-c8a96bb4-3085-4423-9c03-3213dee7c330')\"\n",
              "              title=\"Convert this dataframe to an interactive table.\"\n",
              "              style=\"display:none;\">\n",
              "        \n",
              "  <svg xmlns=\"http://www.w3.org/2000/svg\" height=\"24px\"viewBox=\"0 0 24 24\"\n",
              "       width=\"24px\">\n",
              "    <path d=\"M0 0h24v24H0V0z\" fill=\"none\"/>\n",
              "    <path d=\"M18.56 5.44l.94 2.06.94-2.06 2.06-.94-2.06-.94-.94-2.06-.94 2.06-2.06.94zm-11 1L8.5 8.5l.94-2.06 2.06-.94-2.06-.94L8.5 2.5l-.94 2.06-2.06.94zm10 10l.94 2.06.94-2.06 2.06-.94-2.06-.94-.94-2.06-.94 2.06-2.06.94z\"/><path d=\"M17.41 7.96l-1.37-1.37c-.4-.4-.92-.59-1.43-.59-.52 0-1.04.2-1.43.59L10.3 9.45l-7.72 7.72c-.78.78-.78 2.05 0 2.83L4 21.41c.39.39.9.59 1.41.59.51 0 1.02-.2 1.41-.59l7.78-7.78 2.81-2.81c.8-.78.8-2.07 0-2.86zM5.41 20L4 18.59l7.72-7.72 1.47 1.35L5.41 20z\"/>\n",
              "  </svg>\n",
              "      </button>\n",
              "      \n",
              "  <style>\n",
              "    .colab-df-container {\n",
              "      display:flex;\n",
              "      flex-wrap:wrap;\n",
              "      gap: 12px;\n",
              "    }\n",
              "\n",
              "    .colab-df-convert {\n",
              "      background-color: #E8F0FE;\n",
              "      border: none;\n",
              "      border-radius: 50%;\n",
              "      cursor: pointer;\n",
              "      display: none;\n",
              "      fill: #1967D2;\n",
              "      height: 32px;\n",
              "      padding: 0 0 0 0;\n",
              "      width: 32px;\n",
              "    }\n",
              "\n",
              "    .colab-df-convert:hover {\n",
              "      background-color: #E2EBFA;\n",
              "      box-shadow: 0px 1px 2px rgba(60, 64, 67, 0.3), 0px 1px 3px 1px rgba(60, 64, 67, 0.15);\n",
              "      fill: #174EA6;\n",
              "    }\n",
              "\n",
              "    [theme=dark] .colab-df-convert {\n",
              "      background-color: #3B4455;\n",
              "      fill: #D2E3FC;\n",
              "    }\n",
              "\n",
              "    [theme=dark] .colab-df-convert:hover {\n",
              "      background-color: #434B5C;\n",
              "      box-shadow: 0px 1px 3px 1px rgba(0, 0, 0, 0.15);\n",
              "      filter: drop-shadow(0px 1px 2px rgba(0, 0, 0, 0.3));\n",
              "      fill: #FFFFFF;\n",
              "    }\n",
              "  </style>\n",
              "\n",
              "      <script>\n",
              "        const buttonEl =\n",
              "          document.querySelector('#df-c8a96bb4-3085-4423-9c03-3213dee7c330 button.colab-df-convert');\n",
              "        buttonEl.style.display =\n",
              "          google.colab.kernel.accessAllowed ? 'block' : 'none';\n",
              "\n",
              "        async function convertToInteractive(key) {\n",
              "          const element = document.querySelector('#df-c8a96bb4-3085-4423-9c03-3213dee7c330');\n",
              "          const dataTable =\n",
              "            await google.colab.kernel.invokeFunction('convertToInteractive',\n",
              "                                                     [key], {});\n",
              "          if (!dataTable) return;\n",
              "\n",
              "          const docLinkHtml = 'Like what you see? Visit the ' +\n",
              "            '<a target=\"_blank\" href=https://colab.research.google.com/notebooks/data_table.ipynb>data table notebook</a>'\n",
              "            + ' to learn more about interactive tables.';\n",
              "          element.innerHTML = '';\n",
              "          dataTable['output_type'] = 'display_data';\n",
              "          await google.colab.output.renderOutput(dataTable, element);\n",
              "          const docLink = document.createElement('div');\n",
              "          docLink.innerHTML = docLinkHtml;\n",
              "          element.appendChild(docLink);\n",
              "        }\n",
              "      </script>\n",
              "    </div>\n",
              "  </div>\n",
              "  "
            ]
          },
          "metadata": {},
          "execution_count": 3
        }
      ],
      "source": [
        "from sklearn import preprocessing\n",
        "from sklearn.datasets import fetch_openml\n",
        "\n",
        "\n",
        "data = fetch_openml(\"titanic\", version=1, as_frame=True, parser='auto').frame\n",
        "data.survived = pd.to_numeric(data['survived'])\n",
        "data.drop(['boat', 'body', 'home.dest'], axis=1, inplace=True)\n",
        "data = data.drop(['name', 'ticket', 'cabin', 'embarked'], axis=1) # remove unimportant columns\n",
        "le = preprocessing.LabelEncoder()\n",
        "le.fit(data['sex'])\n",
        "data['sex'] = le.transform(data['sex'])\n",
        "data.head()"
      ]
    },
    {
      "cell_type": "markdown",
      "metadata": {
        "id": "tdHK09KWIhub"
      },
      "source": [
        "Next, as we have become accustomed to doing, we will split the dataset into a training set (where we will do our cross validation) and a test set (our hold-out data). We've done this a few times during the labs, so hopefully you're getting used to the process!"
      ]
    },
    {
      "cell_type": "code",
      "execution_count": 6,
      "metadata": {
        "id": "CHYYoq9uIhuc"
      },
      "outputs": [],
      "source": [
        "from sklearn.model_selection import train_test_split\n",
        "\n",
        "target_data = data[\"survived\"]\n",
        "feature_data = data.iloc[:, data.columns != \"survived\"]\n",
        "\n",
        "X_train, X_test, y_train, y_test = train_test_split(feature_data, target_data, test_size=0.3, random_state=0)"
      ]
    },
    {
      "cell_type": "markdown",
      "metadata": {
        "id": "4UvxOkuoIhud"
      },
      "source": [
        "Now, we're ready to try out some models on our training data (you haven't seen anything new yet!). Since we're solving a binary classification problem (i.e., predicting a 0 or 1 target), we want to design classifiers. So far in the course we've covered the following simple classifiers: **k-nearest neighbors**, **decision trees**, and **logistic regression**.\n",
        "\n",
        "In this exercise, we're going to fit a logistic regression to our data and then design a neural network architecture that behaves exactly like a logistic regression and validate that we get the same result.\n",
        "\n",
        "##### Recap: Logistic Regression\n",
        "\n",
        "Logistic regression models are linear models similar to linear regression models. Hopefully you somewhat remember them from lecture. Let's review them, starting with the linear regression equation:\n",
        "\n",
        "\n",
        "<center>$\\hat{y} = \\beta_0 + \\beta_1 x_1 + \\beta_2 x_2 +, \\dots, + \\beta_n x_n$</center>\n",
        "\n",
        "Where $\\hat{y}$ is our prediction, $\\beta$ is our vector of coefficients (the things we learn), and $x$ is our feature vector. The linear regression equation defines a line in $n$ dimensional space. The problem with linear regression is that it doesn't really perform well on classification tasks. Consider the following example:\n",
        "\n",
        "<img src=\"https://github.com/lyeskhalil/mlbootcamp/blob/master/img/linear-classification.png?raw=1\" width=\"500\"/>\n",
        "\n",
        "The green line represents our trained linear regression model. Our feature is the size of a tumor, and our target is whether it is malignant or not (0 or 1). As we can see, even though our model is trained to the data to minimize error, for a lot of the values of tumor size it is going to give us a weird result (e.g., for some really small tumors, the prediction would be a negative value!).\n",
        "\n",
        "To resolve this, we use the *logistic function* (also called the *sigmoid* function) to 'squish' our linear model to be bounded by 0 and 1. The logistic (sigmoid) function is $\\frac{1}{1+e^{-x}}$, and thus our logistic regression equation becomes:\n",
        "\n",
        "<center>$\\large\\hat{y} = \\frac{1}{1+e^{-(\\beta_0 + \\beta_1 x_1 + \\beta_2 x_2 +, \\dots, + \\beta_n x_n)}}$</center>\n",
        "\n",
        "In this equation, the values for $\\hat{y}$ can never be below 0, and can never exceed 1 even for the most extreme feature values $x$.\n",
        "\n",
        "**YOUR TURN:**\n",
        "* Assuming you've trained a nice logistic regression model to the below data (see Figure), what might the model fit look like (i.e., what will the line look like)? ____________________________________\n",
        "* For new data samples with features $x$, how would you convert the output of the logistic regression, $\\hat{y}$, into a classification (0 or 1)? ______________________________\n",
        "\n",
        "<img src=\"https://github.com/lyeskhalil/mlbootcamp/blob/master/img/logistic-classification.jpg?raw=1\" width=\"400\"/>\n",
        "\n",
        "OK, cool! So a quick review of logistic regression. Let's use scikit-learn to fit a logistic regression model to our training set and then predict on our test set (we won't do cross validation this time). Remember, when we used decision trees and tree ensembles, our cross validation accuracy was somewhere from 75-80%.\n",
        "\n",
        "*Note: Remember to first impute missing values!*"
      ]
    },
    {
      "cell_type": "code",
      "execution_count": 12,
      "metadata": {
        "id": "t7iInLxCIhue",
        "outputId": "025f0299-f3f1-4493-dd37-999ab30b00ab",
        "colab": {
          "base_uri": "https://localhost:8080/"
        }
      },
      "outputs": [
        {
          "output_type": "stream",
          "name": "stdout",
          "text": [
            "Logistic accuracy: 79.13%\n"
          ]
        }
      ],
      "source": [
        "from sklearn.impute import SimpleImputer\n",
        "from sklearn.linear_model import LogisticRegression\n",
        "from sklearn.metrics import accuracy_score\n",
        "\n",
        "imp = SimpleImputer(missing_values=np.nan, strategy='most_frequent') # Remember to impute missing values! (training set)\n",
        "imp.fit(X_train)\n",
        "\n",
        "X_train = imp.transform(X_train)\n",
        "\n",
        "logreg = LogisticRegression()\n",
        "logreg.fit(X_train, y_train)\n",
        "\n",
        "X_test = imp.transform(X_test) # Remember to impute missing values! (test set)\n",
        "predictions = logreg.predict(X_test)\n",
        "\n",
        "accuracy = accuracy_score(y_test, predictions)\n",
        "print (f\"Logistic accuracy: {accuracy*100:.2f}%\")"
      ]
    },
    {
      "cell_type": "markdown",
      "metadata": {
        "id": "bX9iX-X4Ihuf"
      },
      "source": [
        "And so our logistic regression gives us similar performance to the tree methods we explored yesterday.\n",
        "\n",
        "**YOUR TURN:**\n",
        "* The default regularization parameter for sklearn's logistic regression is L2 (or ridge regression); can you figure out how to change it to L1 (LASSO)? _Note: you'll have to look at the [documentation](https://scikit-learn.org/stable/modules/generated/sklearn.linear_model.LogisticRegression.html)!_ ______________________\n",
        "* What is the mean accuracy of an L1 regularized Logistic regression model on the training set? ______________________\n",
        "\n",
        "OK - time for the good stuff!\n",
        "\n",
        "### Neural Networks\n",
        "\n",
        "A *neural network* (NN) is a type of machine learning model that, like linear or logistic regression, takes a feature vector, X, as input and predicts a target, y. The way it does this is a little bit different, however. A typical NN architecture consists of: an input layer, hidden layers, and an output layer. Each layer consists of a set of nodes (neurons) connected by edges (outputs). Let's look at the figure below:\n",
        "\n",
        "<img src=\"https://github.com/lyeskhalil/mlbootcamp/blob/master/img/nn.jpeg?raw=1\" width=\"400\"/>\n",
        "\n",
        "**Input layer**: This is a passive layer that simply takes in your feature data and outputs it to the hidden layers. You can think of each input layer neuron as being associated with a feature in your feature set.\n",
        "\n",
        "**Hidden layer**: This is where the magic happens. The original features, as received by the input layer, go through a series of transformations within the hidden layer. You can think of each node (neuron) within the hidden layer as a highly transformed feature.\n",
        "\n",
        "**Output layer**: This is where we get our final result, the 0 or 1 prediction.\n",
        "\n",
        "### Zooming In\n",
        "\n",
        "Let's take a look at what is happening at any given node (neuron) within the hidden layer. Take a look at the following image of a neuron within an NN:\n",
        "\n",
        "<img src=\"https://github.com/lyeskhalil/mlbootcamp/blob/master/img/neuron.png?raw=1\" width=\"500\"/>\n",
        "\n",
        "Every neuron has some inputs ($x_1, x_2, \\dots, x_n$) with input weights ($w_1, w_2, \\dots, w_n$) and an output, $Y$. The neuron itself applies a transformation, $f$, known as the *activation function*, to the linear combination of its inputs and input weights. The value $b$ is a constant weight called the bias.\n",
        "\n",
        "There are many different types of activation functions, but the popular ones are the *sigmoid*, *tanh*, and *ReLU* activation functions. Yes, you heard correctly: the sigmoid function is a popular activation function! (This should be reminding you of the logistic regression model we discussed above).\n",
        "\n",
        "**YOUR TURN:**\n",
        "* If you were to develop a simple neural network architecture that was equivalent to a logistic regression model for the Titanic data, how would you do it? Get a pen and paper and draw it out. Make sure to specify: the input layer, the hidden layer(s), the output layer, the activation function(s), the weights, and the biases.\n",
        "* How many hidden layers does your NN have? What type of activation function, $f$, does it use? _________________\n",
        "* Say you wanted to add another layer to your NN architecture with 3x neurons, what would your new architecture look like? _________________\n",
        "\n",
        "### Intro to  PyTorch\n",
        "\n",
        "OK, so now that we've made the connection between NNs and Logistic Regression, let's code up our little NN in PyTorch and use it to predict survivorship on the Titanic dataset.\n",
        "\n",
        "First, *tensors* are the fundamental data type of PyTorch. Each tensor is effectively a multi-dimensional array, just like a numpy array. The primary difference is that tensors have been setup in such a way to enhance the NN training process.\n",
        "\n",
        "Let's load our X and y training data into tensors:"
      ]
    },
    {
      "cell_type": "code",
      "execution_count": 13,
      "metadata": {
        "id": "gxobcMqFIhug"
      },
      "outputs": [],
      "source": [
        "import torch\n",
        "from torch.autograd import Variable\n",
        "\n",
        "X_train_tensor = Variable(torch.Tensor(X_train)).float()\n",
        "y_train_tensor = Variable(torch.Tensor(y_train.values)).float()\n",
        "\n",
        "X_test_tensor = Variable(torch.Tensor(X_test)).float()\n",
        "y_test_tensor = Variable(torch.Tensor(y_test.values)).float()"
      ]
    },
    {
      "cell_type": "code",
      "source": [
        "X_train_tensor.shape, y_train_tensor.shape, X_test_tensor.shape, y_test_tensor.shape"
      ],
      "metadata": {
        "id": "Ge4UKjvvuNy3"
      },
      "execution_count": null,
      "outputs": []
    },
    {
      "cell_type": "markdown",
      "metadata": {
        "id": "XCDsVueiIhuh"
      },
      "source": [
        "Next, we will actually define our logistic regression network model class. The below function, `LogisticRegression`, applies a sigmoid transformation to the output, as required."
      ]
    },
    {
      "cell_type": "code",
      "execution_count": 14,
      "metadata": {
        "id": "vnbPW--OIhuh"
      },
      "outputs": [],
      "source": [
        "class LogisticRegression(torch.nn.Module):\n",
        "    def __init__(self, input_dim, output_dim):\n",
        "        super(LogisticRegression, self).__init__()\n",
        "        self.linear = torch.nn.Linear(input_dim, output_dim)\n",
        "\n",
        "    def forward(self, x):\n",
        "        outputs = torch.sigmoid(self.linear(x))\n",
        "        return outputs"
      ]
    },
    {
      "cell_type": "markdown",
      "metadata": {
        "id": "OBNTYMbRIhuh"
      },
      "source": [
        "Next, we identify the dimensions of our problem: 6 x 1 (6 features and 2 target classes: 0 or 1), initialize our model with those dimensions and then specify the loss function ([cross entropy](https://en.wikipedia.org/wiki/Cross_entropy)) and optimization technique ([stochastic gradient descent](https://en.wikipedia.org/wiki/Stochastic_gradient_descent))."
      ]
    },
    {
      "cell_type": "code",
      "execution_count": 15,
      "metadata": {
        "id": "zAfHj63fIhui"
      },
      "outputs": [],
      "source": [
        "input_dim = 6\n",
        "output_dim = 1\n",
        "\n",
        "model = LogisticRegression(input_dim, output_dim)\n",
        "\n",
        "criterion = torch.nn.BCELoss()\n",
        "optimizer = torch.optim.SGD(model.parameters(), lr=0.001)"
      ]
    },
    {
      "cell_type": "code",
      "execution_count": null,
      "outputs": [],
      "source": [
        "model"
      ],
      "metadata": {
        "id": "AYPto97rX3Qj"
      }
    },
    {
      "cell_type": "markdown",
      "metadata": {
        "id": "MyFpvFy_Ihui"
      },
      "source": [
        "Next, we set up our dataset to be *iterable* such that we can train our neural network in *batches*. A batch is a subset of the total data such that if we combined them all, we'd get the whole dataset. Batching is done to speed up the training process and reduce memory requirements.\n",
        "\n",
        "**YOUR TURN:**\n",
        "* If we select a batch size of 256, how many batches of training data will be generated?________________\n",
        "\n",
        "The `DataLoader` function does this batching operation for us."
      ]
    },
    {
      "cell_type": "code",
      "execution_count": 17,
      "metadata": {
        "id": "yTtyV_mVIhuj"
      },
      "outputs": [],
      "source": [
        "batch_size = 256\n",
        "\n",
        "train_dataset = torch.utils.data.TensorDataset(X_train_tensor, y_train_tensor)\n",
        "train_loader = torch.utils.data.DataLoader(dataset=train_dataset, batch_size=batch_size, shuffle=True)"
      ]
    },
    {
      "cell_type": "markdown",
      "metadata": {
        "id": "9ltyMFvsIhuj"
      },
      "source": [
        "Next, we train our NN and test its performance on the test set every 4000 iterations. We use 40,000 *epochs* and print our accuracy values every 4000 iterations. An epoch is when the entire dataset has passed through the network. An iteration is when a single forward/backward pass of the network over a batch of data is done.\n",
        "\n",
        "**YOUR TURN:**\n",
        "* If our batch size is 256 and we elect to do 40,000 epochs (i.e., the network sees the entire dataset 40,000 times), how many iterations (forward/backward passes of the data) will our network see? _______________________\n",
        "\n",
        "Run the below code and check out the incremental accuracy improvement output below."
      ]
    },
    {
      "cell_type": "code",
      "execution_count": 18,
      "metadata": {
        "id": "q2lxP28lIhuj",
        "outputId": "f1b2766d-e3f6-4872-e598-39213e371bed",
        "colab": {
          "base_uri": "https://localhost:8080/"
        }
      },
      "outputs": [
        {
          "output_type": "stream",
          "name": "stdout",
          "text": [
            "Loss: 0.56 | Accuracy: 0.72 | Progress: 2.50%\t| Iteration: 4000\n",
            "Loss: 0.52 | Accuracy: 0.73 | Progress: 5.00%\t| Iteration: 8000\n",
            "Loss: 0.57 | Accuracy: 0.73 | Progress: 7.50%\t| Iteration: 12000\n",
            "Loss: 0.49 | Accuracy: 0.75 | Progress: 10.00%\t| Iteration: 16000\n",
            "Loss: 0.51 | Accuracy: 0.77 | Progress: 12.50%\t| Iteration: 20000\n",
            "Loss: 0.48 | Accuracy: 0.77 | Progress: 15.00%\t| Iteration: 24000\n",
            "Loss: 0.51 | Accuracy: 0.77 | Progress: 17.50%\t| Iteration: 28000\n",
            "Loss: 0.43 | Accuracy: 0.76 | Progress: 20.00%\t| Iteration: 32000\n",
            "Loss: 0.52 | Accuracy: 0.77 | Progress: 22.50%\t| Iteration: 36000\n",
            "Loss: 0.54 | Accuracy: 0.77 | Progress: 25.00%\t| Iteration: 40000\n",
            "Loss: 0.46 | Accuracy: 0.77 | Progress: 27.50%\t| Iteration: 44000\n",
            "Loss: 0.51 | Accuracy: 0.77 | Progress: 30.00%\t| Iteration: 48000\n",
            "Loss: 0.44 | Accuracy: 0.78 | Progress: 32.50%\t| Iteration: 52000\n",
            "Loss: 0.52 | Accuracy: 0.77 | Progress: 35.00%\t| Iteration: 56000\n",
            "Loss: 0.49 | Accuracy: 0.77 | Progress: 37.50%\t| Iteration: 60000\n",
            "Loss: 0.58 | Accuracy: 0.78 | Progress: 40.00%\t| Iteration: 64000\n",
            "Loss: 0.48 | Accuracy: 0.78 | Progress: 42.50%\t| Iteration: 68000\n",
            "Loss: 0.47 | Accuracy: 0.78 | Progress: 45.00%\t| Iteration: 72000\n",
            "Loss: 0.44 | Accuracy: 0.78 | Progress: 47.50%\t| Iteration: 76000\n",
            "Loss: 0.52 | Accuracy: 0.78 | Progress: 50.00%\t| Iteration: 80000\n",
            "Loss: 0.48 | Accuracy: 0.78 | Progress: 52.50%\t| Iteration: 84000\n",
            "Loss: 0.50 | Accuracy: 0.78 | Progress: 55.00%\t| Iteration: 88000\n",
            "Loss: 0.39 | Accuracy: 0.78 | Progress: 57.50%\t| Iteration: 92000\n",
            "Loss: 0.51 | Accuracy: 0.78 | Progress: 60.00%\t| Iteration: 96000\n",
            "Loss: 0.49 | Accuracy: 0.78 | Progress: 62.50%\t| Iteration: 100000\n",
            "Loss: 0.51 | Accuracy: 0.78 | Progress: 65.00%\t| Iteration: 104000\n",
            "Loss: 0.44 | Accuracy: 0.78 | Progress: 67.50%\t| Iteration: 108000\n",
            "Loss: 0.49 | Accuracy: 0.78 | Progress: 70.00%\t| Iteration: 112000\n",
            "Loss: 0.48 | Accuracy: 0.78 | Progress: 72.50%\t| Iteration: 116000\n",
            "Loss: 0.47 | Accuracy: 0.78 | Progress: 75.00%\t| Iteration: 120000\n",
            "Loss: 0.48 | Accuracy: 0.78 | Progress: 77.50%\t| Iteration: 124000\n",
            "Loss: 0.46 | Accuracy: 0.78 | Progress: 80.00%\t| Iteration: 128000\n",
            "Loss: 0.44 | Accuracy: 0.78 | Progress: 82.50%\t| Iteration: 132000\n",
            "Loss: 0.48 | Accuracy: 0.78 | Progress: 85.00%\t| Iteration: 136000\n",
            "Loss: 0.55 | Accuracy: 0.78 | Progress: 87.50%\t| Iteration: 140000\n",
            "Loss: 0.48 | Accuracy: 0.79 | Progress: 90.00%\t| Iteration: 144000\n",
            "Loss: 0.49 | Accuracy: 0.79 | Progress: 92.50%\t| Iteration: 148000\n",
            "Loss: 0.42 | Accuracy: 0.78 | Progress: 95.00%\t| Iteration: 152000\n",
            "Loss: 0.52 | Accuracy: 0.78 | Progress: 97.50%\t| Iteration: 156000\n",
            "Loss: 0.47 | Accuracy: 0.79 | Progress: 100.00%\t| Iteration: 160000\n"
          ]
        }
      ],
      "source": [
        "import random\n",
        "\n",
        "random.seed(1)\n",
        "torch.manual_seed(1)\n",
        "torch.backends.cudnn.deterministic = True\n",
        "\n",
        "iterations = 0\n",
        "epochs = 40000\n",
        "\n",
        "for epoch in range(epochs):\n",
        "    for batch_idx, (features, target) in enumerate(train_loader):\n",
        "        optimizer.zero_grad()\n",
        "        outputs = model(features)\n",
        "        loss = criterion(torch.squeeze(outputs), target)\n",
        "        loss.backward()\n",
        "        optimizer.step()\n",
        "\n",
        "        iterations += 1\n",
        "        if iterations % 4000 == 0:\n",
        "            model.eval()\n",
        "            with torch.no_grad():\n",
        "\n",
        "                outputs = model(X_test_tensor)\n",
        "                predicted = torch.round(outputs.data).numpy()\n",
        "            model.train()\n",
        "\n",
        "            accuracy = accuracy_score(y_test, predicted)\n",
        "            print (f\"Loss: {loss.item():.2f} | Accuracy: {accuracy:.2f} | Progress: {epoch/epochs*100:.2f}%\\t| Iteration: {iterations}\")"
      ]
    },
    {
      "cell_type": "markdown",
      "metadata": {
        "id": "YuXmjwuMIhuk"
      },
      "source": [
        "Hopefully you got an accuracy of around ~78%. What you'll notice is that is similar accuracy we got from sklearn's built-in logistic regression function from earlier in the lab. There are differences in the implementation that account for this discrepancy, notably sklearn used l2 regularization, and an optimizer called LBFGS instead of SGD that we learned and used.\n",
        "\n",
        "Let's take a look at the trained model parameters using the `model.parameters()` function within PyTorch."
      ]
    },
    {
      "cell_type": "code",
      "execution_count": 19,
      "metadata": {
        "id": "535umxhZIhuk",
        "outputId": "a9291db6-77e9-4fdd-cbda-1891f39a2c1a",
        "colab": {
          "base_uri": "https://localhost:8080/"
        }
      },
      "outputs": [
        {
          "output_type": "execute_result",
          "data": {
            "text/plain": [
              "[Parameter containing:\n",
              " tensor([[-0.3760, -2.3057, -0.0057, -0.3416, -0.0263,  0.0092]],\n",
              "        requires_grad=True),\n",
              " Parameter containing:\n",
              " tensor([1.8117], requires_grad=True)]"
            ]
          },
          "metadata": {},
          "execution_count": 19
        }
      ],
      "source": [
        "params = list(model.parameters())\n",
        "params"
      ]
    },
    {
      "cell_type": "markdown",
      "metadata": {
        "id": "gkfrWNPGIhuk"
      },
      "source": [
        "Hm, well this is interesting! We can see that our model consists of two tensors: the first has (1,6), and the second has dimension (1). Refer back to how you drew what you thought this NN architecture would look like.\n",
        "\n",
        "**YOU TURN:**\n",
        "* What do you think these values represent? ____________________________\n",
        "* How many hidden layers does the architecture have? ______________________________\n",
        "* Draw the architecture and label (some of) the weights (trained parameters). ______________________________\n",
        "\n",
        "(*Hint: to answer these questions, try printing `outputs.data[0]` and `predicted[0]` to look at the model's assessment of the first sample*)"
      ]
    },
    {
      "cell_type": "markdown",
      "metadata": {
        "id": "YeZvj7ekIhul"
      },
      "source": [
        "You'll notice that this took considerably longer to train than scikit-learn's logistic regression: this is because PyTorch is set-up to be more flexible and train architectures much more complex than a simple single neuron network. Scikit-learn's implementation of logistic regression is highly optimized.\n",
        "\n",
        "**YOUR TURN:**\n",
        "* How many epochs would you need to increase the process to 200,000 iterations? ______________________\n",
        "* Does increasing to 200,000 iterations improve your test set accuracy? ______________________\n",
        "* Compare the predictions of your logistic regression from scikit-learn and your network developed with PyTorch. Are all the predictions the same? How many predictions are pair-wise different? ______________________"
      ]
    },
    {
      "cell_type": "markdown",
      "metadata": {
        "id": "UEscia6QIhul"
      },
      "source": [
        "Congratulations! You've completed an introduction to neural networks and PyTorch. If you want to explore more sophisicated architectures and applications, check out designing a PyTorch neural network to properly classify digit images here:\n",
        "\n",
        "https://towardsdatascience.com/handwritten-digit-mnist-pytorch-977b5338e627\n",
        "\n",
        "Other than that, you're done the lab!"
      ]
    },
    {
      "cell_type": "code",
      "execution_count": null,
      "outputs": [],
      "source": [],
      "metadata": {
        "id": "BuGPc0erX3Qm"
      }
    }
  ],
  "metadata": {
    "kernelspec": {
      "display_name": "Python 3",
      "language": "python",
      "name": "python3"
    },
    "language_info": {
      "codemirror_mode": {
        "name": "ipython",
        "version": 3
      },
      "file_extension": ".py",
      "mimetype": "text/x-python",
      "name": "python",
      "nbconvert_exporter": "python",
      "pygments_lexer": "ipython3",
      "version": "3.5.2"
    },
    "colab": {
      "provenance": []
    },
    "gpuClass": "standard"
  },
  "nbformat": 4,
  "nbformat_minor": 0
}