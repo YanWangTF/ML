{
  "cells": [
    {
      "cell_type": "markdown",
      "metadata": {
        "id": "mufCw98-EOTq"
      },
      "source": [
        "[![Open In Colab](https://colab.research.google.com/assets/colab-badge.svg)](https://colab.research.google.com/github/eldanc/mlbootcamp2023/blob/main/lab_1_1_basics.ipynb)\n",
        "\n",
        "# UofT FASE ML Bootcamp\n",
        "#### Monday June 19, 2023\n",
        "#### Basic Principles and Models - Lab 1, Day 1\n",
        "#### Teaching team: Eldan Cohen, Alex Olson, Nakul Upadhya, Shehnaz Islam\n",
        "##### Lab author: Kyle E. C. Booth, kbooth@mie.utoronto.ca, edited by Jake Mosseri"
      ]
    },
    {
      "cell_type": "markdown",
      "metadata": {
        "id": "PFfPLA-2EOTu"
      },
      "source": [
        "In this lab, we will be using the popular machine learning library [scikit-learn](https://scikit-learn.org/stable/) in tandem with a popular scientific computing library in Python, [NumPy](https://www.numpy.org/), to investigate basic machine learning principles and models. The topics that will be covered in this lab include:\n",
        "* Introduction to scikit-learn and NumPy\n",
        "* Exploratory data analysis (EDA)\n",
        "* Nearest neighbors classification algorithm\n",
        "* Nested cross-validation\n",
        "\n",
        "*Note:* Some other useful Python libraries include [matplotlib](https://matplotlib.org/) (for plotting/graphing) and [Pandas](https://pandas.pydata.org/) (for data analysis), though we won't be going into detail on these in this bootcamp.\n",
        "\n",
        "##### Notebooks\n",
        "This lab will be using notebooks as a Python development environment. Hopefully you're somewhat familiar with them. Write your code in *cells* (this is a cell!) and execute your code by pressing the *play* button (up top) or by entering *ctrl+enter*. To format a cell for text, you can select \"Markdown\" from the dropdown - the default formatting is \"Code\", which will usually be what you want.\n",
        "\n",
        "#### Getting started\n",
        "Let's get started. First, we're going to test that we're able to import the required libraries.\n",
        "**>> Run the code in the next cell** to import scikit-learn and NumPy."
      ]
    },
    {
      "cell_type": "code",
      "execution_count": 21,
      "metadata": {
        "colab": {
          "base_uri": "https://localhost:8080/"
        },
        "id": "SFhv0y38EOTv",
        "outputId": "759ba017-52bd-4ca5-f3f8-136760eaec8a"
      },
      "outputs": [
        {
          "output_type": "stream",
          "name": "stdout",
          "text": [
            "Looking in indexes: https://pypi.org/simple, https://us-python.pkg.dev/colab-wheels/public/simple/\n",
            "Requirement already satisfied: numpy in /usr/local/lib/python3.10/dist-packages (1.22.4)\n",
            "Looking in indexes: https://pypi.org/simple, https://us-python.pkg.dev/colab-wheels/public/simple/\n",
            "Requirement already satisfied: scikit-learn in /usr/local/lib/python3.10/dist-packages (1.2.2)\n",
            "Requirement already satisfied: numpy>=1.17.3 in /usr/local/lib/python3.10/dist-packages (from scikit-learn) (1.22.4)\n",
            "Requirement already satisfied: scipy>=1.3.2 in /usr/local/lib/python3.10/dist-packages (from scikit-learn) (1.10.1)\n",
            "Requirement already satisfied: joblib>=1.1.1 in /usr/local/lib/python3.10/dist-packages (from scikit-learn) (1.2.0)\n",
            "Requirement already satisfied: threadpoolctl>=2.0.0 in /usr/local/lib/python3.10/dist-packages (from scikit-learn) (3.1.0)\n",
            "Looking in indexes: https://pypi.org/simple, https://us-python.pkg.dev/colab-wheels/public/simple/\n",
            "Requirement already satisfied: matplotlib in /usr/local/lib/python3.10/dist-packages (3.7.1)\n",
            "Requirement already satisfied: contourpy>=1.0.1 in /usr/local/lib/python3.10/dist-packages (from matplotlib) (1.0.7)\n",
            "Requirement already satisfied: cycler>=0.10 in /usr/local/lib/python3.10/dist-packages (from matplotlib) (0.11.0)\n",
            "Requirement already satisfied: fonttools>=4.22.0 in /usr/local/lib/python3.10/dist-packages (from matplotlib) (4.39.3)\n",
            "Requirement already satisfied: kiwisolver>=1.0.1 in /usr/local/lib/python3.10/dist-packages (from matplotlib) (1.4.4)\n",
            "Requirement already satisfied: numpy>=1.20 in /usr/local/lib/python3.10/dist-packages (from matplotlib) (1.22.4)\n",
            "Requirement already satisfied: packaging>=20.0 in /usr/local/lib/python3.10/dist-packages (from matplotlib) (23.1)\n",
            "Requirement already satisfied: pillow>=6.2.0 in /usr/local/lib/python3.10/dist-packages (from matplotlib) (8.4.0)\n",
            "Requirement already satisfied: pyparsing>=2.3.1 in /usr/local/lib/python3.10/dist-packages (from matplotlib) (3.0.9)\n",
            "Requirement already satisfied: python-dateutil>=2.7 in /usr/local/lib/python3.10/dist-packages (from matplotlib) (2.8.2)\n",
            "Requirement already satisfied: six>=1.5 in /usr/local/lib/python3.10/dist-packages (from python-dateutil>=2.7->matplotlib) (1.16.0)\n"
          ]
        }
      ],
      "source": [
        "!pip install numpy\n",
        "!pip install scikit-learn\n",
        "!pip install matplotlib\n",
        "\n",
        "import numpy as np\n",
        "import sklearn"
      ]
    },
    {
      "cell_type": "markdown",
      "metadata": {
        "id": "i6EJDXQ2EOTx"
      },
      "source": [
        "### NumPy Basics\n",
        "\n",
        "Great. Let's move on to our next topic: getting a handle on NumPy basics. You can think of NumPy as sort of like a MATLAB for Python (if that helps). The main object is multidimensional arrays, and these come in particularly handy when working with data and machine learning algorithms.\n",
        "\n",
        "Let's create a 2x4 array containing the numbers 1 through 8 and conduct some basic operations on it.\n",
        "**>> Run the code in the next cell to create and print the array.***"
      ]
    },
    {
      "cell_type": "code",
      "execution_count": null,
      "metadata": {
        "colab": {
          "base_uri": "https://localhost:8080/"
        },
        "id": "cQxQkId8EOTx",
        "outputId": "eac95daa-2c34-4dde-8b8d-fd2e00cd9cb5"
      },
      "outputs": [
        {
          "data": {
            "text/plain": [
              "array([[0, 1, 2, 3],\n",
              "       [4, 5, 6, 7]])"
            ]
          },
          "execution_count": 2,
          "metadata": {},
          "output_type": "execute_result"
        }
      ],
      "source": [
        "array = np.arange(8).reshape(2,4)\n",
        "array"
      ]
    },
    {
      "cell_type": "markdown",
      "metadata": {
        "id": "zmbEmYFPEOTz"
      },
      "source": [
        "We can access the shape, number of dimensions, data type, and number of elements in our array as follows:\n",
        "*(Tip: use \"print()\" when you want a cell to output more than one thing, or you want to append text to your output, otherwise the cell will output the last object you call, as in the cell above)*"
      ]
    },
    {
      "cell_type": "code",
      "execution_count": null,
      "metadata": {
        "colab": {
          "base_uri": "https://localhost:8080/"
        },
        "id": "VIuwFnemEOTz",
        "outputId": "9fad6c3e-f102-4738-ff8f-908da5b4364a"
      },
      "outputs": [
        {
          "name": "stdout",
          "output_type": "stream",
          "text": [
            "Shape: (2, 4)\n",
            "Dimensions: 2\n",
            "Data type: int64\n",
            "Number of elements: 8\n"
          ]
        }
      ],
      "source": [
        "print (\"Shape:\", array.shape)\n",
        "print (\"Dimensions:\", array.ndim)\n",
        "print (\"Data type:\" , array.dtype.name)\n",
        "print (\"Number of elements:\", array.size)"
      ]
    },
    {
      "cell_type": "markdown",
      "metadata": {
        "id": "Q-y0kkdeEOT0"
      },
      "source": [
        "If we have a Python list containing a set of numbers, we can use it to create an array:\n",
        "*(Tip: if you click on a function call, such as array(), and press \"shift+tab\" the Notebook will provide you all the details of the function)*"
      ]
    },
    {
      "cell_type": "code",
      "execution_count": null,
      "metadata": {
        "colab": {
          "base_uri": "https://localhost:8080/"
        },
        "id": "MTl7XGG2EOT1",
        "outputId": "1b592f1b-1d85-4684-de6c-f746b945cd15"
      },
      "outputs": [
        {
          "data": {
            "text/plain": [
              "array([ 0,  1,  1,  2,  3,  5,  8, 13, 21])"
            ]
          },
          "execution_count": 4,
          "metadata": {},
          "output_type": "execute_result"
        }
      ],
      "source": [
        "mylist = [0, 1, 1, 2, 3, 5, 8, 13, 21]\n",
        "myarray = np.array(mylist)\n",
        "myarray"
      ]
    },
    {
      "cell_type": "markdown",
      "metadata": {
        "id": "qz0g0_mYEOT2"
      },
      "source": [
        "And we can do it for nested lists as well, creating multidimensional NumPy arrays:"
      ]
    },
    {
      "cell_type": "code",
      "execution_count": null,
      "metadata": {
        "colab": {
          "base_uri": "https://localhost:8080/"
        },
        "id": "NAZUXTYcEOT2",
        "outputId": "8293931a-bc10-461a-e557-a7c554375a38"
      },
      "outputs": [
        {
          "data": {
            "text/plain": [
              "array([[1, 2, 3],\n",
              "       [4, 5, 6]])"
            ]
          },
          "execution_count": 5,
          "metadata": {},
          "output_type": "execute_result"
        }
      ],
      "source": [
        "my2dlist = [[1,2,3],[4,5,6]]\n",
        "my2darray = np.array(my2dlist)\n",
        "my2darray"
      ]
    },
    {
      "cell_type": "markdown",
      "metadata": {
        "id": "E1bkuyDAEOT3"
      },
      "source": [
        "We can also index and slice NumPy arrays like we would do with a Python list or another container object as follows:"
      ]
    },
    {
      "cell_type": "code",
      "execution_count": null,
      "metadata": {
        "colab": {
          "base_uri": "https://localhost:8080/"
        },
        "id": "JnZjmyCqEOT3",
        "outputId": "db7d0be3-8cc7-4363-f570-b3b69bbf0219"
      },
      "outputs": [
        {
          "name": "stdout",
          "output_type": "stream",
          "text": [
            "Originally:  [0 1 2 3 4 5 6 7 8 9]\n",
            "First four elements:  [0 1 2 3]\n",
            "After the first four elements:  [4 5 6 7 8 9]\n",
            "The last element:  9\n"
          ]
        }
      ],
      "source": [
        "array = np.arange(10)\n",
        "print (\"Originally: \", array)\n",
        "print (\"First four elements: \", array[:4])\n",
        "print (\"After the first four elements: \", array[4:])\n",
        "print (\"The last element: \", array[-1])"
      ]
    },
    {
      "cell_type": "markdown",
      "metadata": {
        "id": "Lp6nck2REOT4"
      },
      "source": [
        "And we can index/slice multidimensional arrays, too."
      ]
    },
    {
      "cell_type": "code",
      "execution_count": null,
      "metadata": {
        "colab": {
          "base_uri": "https://localhost:8080/"
        },
        "id": "EdLxn49WEOT4",
        "outputId": "09f0e7d5-9e95-4bd7-bfa9-5258e81279da"
      },
      "outputs": [
        {
          "name": "stdout",
          "output_type": "stream",
          "text": [
            "Originally:  [[1 2 3]\n",
            " [4 5 6]]\n",
            "First row only:  [1 2 3]\n",
            "First column only:  [1 4]\n"
          ]
        }
      ],
      "source": [
        "array = np.array([[1,2,3],[4,5,6]])\n",
        "print (\"Originally: \", array)\n",
        "print (\"First row only: \", array[0])\n",
        "print (\"First column only: \", array[:,0])"
      ]
    },
    {
      "cell_type": "markdown",
      "metadata": {
        "id": "rQYx2QXiEOT5"
      },
      "source": [
        "#### Sneak preview\n",
        "\n",
        "Often, when designing a machine learning classifier, it can be useful to compare an array of predictions (0 or 1 values) to another array of true values. We can do this pretty easily in NumPy to compute the *accuracy* (e.g., the number of values that are the same), for example, as follows:"
      ]
    },
    {
      "cell_type": "code",
      "execution_count": null,
      "metadata": {
        "colab": {
          "base_uri": "https://localhost:8080/"
        },
        "id": "_rzMxsmLEOT5",
        "outputId": "5c6c88c0-42de-457a-b99a-650087761b36"
      },
      "outputs": [
        {
          "name": "stdout",
          "output_type": "stream",
          "text": [
            "Accuracy:  70.0 %\n"
          ]
        }
      ],
      "source": [
        "true_values = [0, 0, 1, 1, 1, 1, 1, 0, 1, 0]\n",
        "predictions = [0, 0, 0, 1, 1, 1, 0, 1, 1, 0]\n",
        "\n",
        "true_values_array = np.array(true_values)\n",
        "predictions_array = np.array(predictions)\n",
        "\n",
        "accuracy = np.sum(true_values_array == predictions_array) / true_values_array.size\n",
        "print (\"Accuracy: \", accuracy * 100, \"%\")"
      ]
    },
    {
      "cell_type": "markdown",
      "metadata": {
        "id": "pDNpaymPEOT5"
      },
      "source": [
        "In the previous cell, we took two Python lists, converted them to NumPy arrays, and then used a combination of np.sum() and .size to compute the accuracy (proportion of elements that are pairwise equal). A tiny bit more advanced, but demonstrates the power of NumPy arrays.\n",
        "\n",
        "You'll notice we didn't used nested loops to conduct the comparison, but instead used the np.sum() function. This is an example of a vectorized operation within NumPy that is much more efficient when dealing with large datasets."
      ]
    },
    {
      "cell_type": "markdown",
      "metadata": {
        "id": "mmNWbLweEOT6"
      },
      "source": [
        "### Scikit-learn Basics\n",
        "\n",
        "Scikit-learn is a great library to use for doing machine learning in Python. Data preparation, exploratory data analysis (EDA), classification, regression, clustering; it has it all.\n",
        "\n",
        "Scikit-learn usually expects data to be in the form of a 2D matrix with dimensions *n_samples x n_features* with an additional column for the target. To get acquainted with scikit-learn, we are going to use the [iris dataset](https://archive.ics.uci.edu/ml/datasets/iris), one of the most famous datasets in pattern recognition.\n",
        "\n",
        "Each entry in the dataset represents an iris plant, and is categorized as:\n",
        "\n",
        "* Setosa (class 0)\n",
        "* Versicolor (class 1)\n",
        "* Virginica (class 2)\n",
        "\n",
        "These represent the target classes to predict. Each entry also includes a set of features, namely:\n",
        "\n",
        "* Sepal width (cm)\n",
        "* Sepal length (cm)\n",
        "* Petal length (cm)\n",
        "* Petal width (cm)\n",
        "\n",
        "In the context of machine learning classification, the remainder of the lab is going to investigate the following question:\n",
        "*Can we design a model that, based on the iris sample features, can accurately predict the iris sample class? *\n",
        "\n",
        "Scikit-learn has a copy of the iris dataset readily importable for us. Let's grab it now and conduct some EDA."
      ]
    },
    {
      "cell_type": "code",
      "execution_count": null,
      "metadata": {
        "id": "g2-wyZx6EOT6"
      },
      "outputs": [],
      "source": [
        "from sklearn.datasets import load_iris\n",
        "iris_data = load_iris()\n",
        "feature_data = iris_data.data"
      ]
    },
    {
      "cell_type": "markdown",
      "metadata": {
        "id": "tr3OodXEEOT6"
      },
      "source": [
        "**YOUR TURN:** \"feature_data\" now contains the feature data for all of the iris samples.\n",
        "* What is the shape of this feature data? ________________\n",
        "* The data type? ________________\n",
        "* How many samples are there? ________________\n",
        "* How many features are there? ________________"
      ]
    },
    {
      "cell_type": "code",
      "execution_count": 24,
      "metadata": {
        "colab": {
          "base_uri": "https://localhost:8080/"
        },
        "id": "dGSb93AUEOT7",
        "outputId": "9df8a8eb-45eb-4e1b-9c31-ca3be3123001"
      },
      "outputs": [
        {
          "output_type": "stream",
          "name": "stdout",
          "text": [
            "Shape: (150, 4)\n",
            "Data type: float64\n",
            "Number of samples: 150\n",
            "Number of features: 4\n"
          ]
        }
      ],
      "source": [
        "## Enter your code here\n",
        "print (\"Shape:\", feature_data.shape)\n",
        "print (\"Data type:\" , feature_data.dtype.name)\n",
        "print (\"Number of samples:\", feature_data.shape[0])\n",
        "print (\"Number of features:\", feature_data.shape[1])"
      ]
    },
    {
      "cell_type": "markdown",
      "metadata": {
        "id": "ADPK_IktEOT7"
      },
      "source": [
        "Next, we will save the target classification data in a similar fashion."
      ]
    },
    {
      "cell_type": "code",
      "execution_count": 25,
      "metadata": {
        "id": "txwjzkomEOT7"
      },
      "outputs": [],
      "source": [
        "target_data = iris_data.target\n",
        "target_names = iris_data.target_names"
      ]
    },
    {
      "cell_type": "markdown",
      "metadata": {
        "id": "iNjpq5XcEOT8"
      },
      "source": [
        "**YOUR TURN:**\n",
        "* What values are in \"target_data\"? ________________\n",
        "* What is the data type? ________________\n",
        "* What values are in \"target_names\"? ________________\n",
        "* What is the data type? ____________\n",
        "* How many samples are of type \"setosa\"? ________________"
      ]
    },
    {
      "cell_type": "code",
      "execution_count": 40,
      "metadata": {
        "colab": {
          "base_uri": "https://localhost:8080/"
        },
        "id": "Qbk1mRqYEOT8",
        "outputId": "df84c517-e1ad-4ce3-9889-882b64350b78"
      },
      "outputs": [
        {
          "output_type": "stream",
          "name": "stdout",
          "text": [
            "Values: [0 0 0 0 0 0 0 0 0 0 0 0 0 0 0 0 0 0 0 0 0 0 0 0 0 0 0 0 0 0 0 0 0 0 0 0 0\n",
            " 0 0 0 0 0 0 0 0 0 0 0 0 0 1 1 1 1 1 1 1 1 1 1 1 1 1 1 1 1 1 1 1 1 1 1 1 1\n",
            " 1 1 1 1 1 1 1 1 1 1 1 1 1 1 1 1 1 1 1 1 1 1 1 1 1 1 2 2 2 2 2 2 2 2 2 2 2\n",
            " 2 2 2 2 2 2 2 2 2 2 2 2 2 2 2 2 2 2 2 2 2 2 2 2 2 2 2 2 2 2 2 2 2 2 2 2 2\n",
            " 2 2]\n",
            "Data type: int64\n",
            "Values: ['setosa' 'versicolor' 'virginica']\n",
            "Data type: str320\n",
            "50\n"
          ]
        }
      ],
      "source": [
        "## Enter your code here\n",
        "print (\"Values:\", target_data)\n",
        "print (\"Data type:\" , target_data.dtype.name)\n",
        "print (\"Values:\", target_names)\n",
        "print (\"Data type:\" , target_names.dtype.name)\n",
        "print(np.sum(target_data==0))"
      ]
    },
    {
      "cell_type": "markdown",
      "metadata": {
        "id": "DZkEii2tEOT8"
      },
      "source": [
        "We can also do some more visual EDA by plotting the samples according to a subset of the features and coloring the data points to coincide with the sample classification. We will use [matplotlib](https://matplotlib.org/), a powerful plotting library within Python, to accomplish this.\n",
        "\n",
        "For example, lets plot sepal width vs. sepal length.\n"
      ]
    },
    {
      "cell_type": "code",
      "execution_count": 44,
      "metadata": {
        "id": "TsbZwsJbEOT8"
      },
      "outputs": [],
      "source": [
        "import matplotlib.pyplot as plt"
      ]
    },
    {
      "cell_type": "code",
      "execution_count": 48,
      "metadata": {
        "colab": {
          "base_uri": "https://localhost:8080/",
          "height": 489
        },
        "id": "yctO8uMCEOT9",
        "outputId": "5b4dfe59-ca43-440f-b30d-65f3e976ae9c"
      },
      "outputs": [
        {
          "output_type": "execute_result",
          "data": {
            "text/plain": [
              "Text(0.5, 1.0, 'Visual EDA')"
            ]
          },
          "metadata": {},
          "execution_count": 48
        },
        {
          "output_type": "display_data",
          "data": {
            "text/plain": [
              "<Figure size 640x480 with 1 Axes>"
            ],
            "image/png": "[encoded data removed]"
          },
          "metadata": {}
        }
      ],
      "source": [
        "setosa = feature_data[target_data==0]\n",
        "versicolor = feature_data[target_data==1]\n",
        "virginica = feature_data[target_data==2]\n",
        "\n",
        "plt.scatter(setosa[:,0], setosa[:,1], label=\"setosa\")\n",
        "plt.scatter(versicolor[:,0], versicolor[:,1], label=\"versicolor\")\n",
        "plt.scatter(virginica[:,0], virginica[:,1], label=\"virginica\")\n",
        "\n",
        "plt.legend()\n",
        "plt.xlabel(\"sepal length (cm)\")\n",
        "plt.ylabel(\"sepal width (cm)\")\n",
        "plt.title(\"Visual EDA\")"
      ]
    },
    {
      "cell_type": "markdown",
      "metadata": {
        "id": "WZruiACNEOT9"
      },
      "source": [
        "In the above step, we used boolean indexing to filter the feature data based on the target data class. This allowed us to create a scatter plot for each of the iris classes and distinguish them by color.\n",
        "\n",
        "*Observations*: We can see that the \"setosa\" class typically consists of medium-to-high sepal width with low-to-medium sepal length, while the other two classes have lower width and higher length. The \"virginica\" class appears to have the largest combination of the two.\n",
        "\n",
        "**YOUR TURN:**\n",
        "* Which of the iris classes is seperable based on sepal characteristics? ________________\n",
        "* Which of the iris classes is not? ________________\n",
        "* Can we (easily) visualize each of the samples w.r.t. all features on the same plot? Why/why not? ________________"
      ]
    },
    {
      "cell_type": "markdown",
      "metadata": {
        "id": "J08LHtoJEOT9"
      },
      "source": [
        "### Creating a k-Nearest Neighbors Classifier\n",
        "\n",
        "Now that we've explored the data a little bit, we're going to use scikit-learn to create a k-nearest neighbors classifier for the data. Effectively we'll be developing a model whose job it is to build a relationship over input feature data (sepal and petal characteristics) that predicts the iris sample class (e.g. \"setosa\"). This is an example of a *supervised learning* task; we have all the features and all the target classes.\n",
        "\n",
        "Nearest neightbors classifiers are quite simple. They predict the class of a new data sample based off the *nearest* data points to that sample. The 'nearest' metric is calculated via a distance function (often [Euclidean distance](https://en.wikipedia.org/wiki/Euclidean_distance)).\n",
        "\n",
        "<img src=\"https://github.com/lyeskhalil/mlbootcamp/blob/master/img/knn.png?raw=1\" alt=\"knn\" width=\"200\"/>\n",
        "\n",
        "For example, in the above diagram, suppose we are looking to classify the green circle as either a red triangle, or a blue square. If k = 1 (i.e., we look at one neighbor), our model would predict *red triangle*. If k=2, it would still predict *red triangle*. If k=3, the model would predict *red triangle* as it is the *majority* class of the 3 nearest neighbors. It isn't until k=5 that the algorithm actually predicts *blue square*.\n",
        "\n",
        "Model creation in scikit-learn follows a **data prep -> fit -> predict** process. The \"fit\" function is where the actual model is trained and parameter values are selected, while the \"predict\" function actually takes the trained model and applies it to the new samples.\n",
        "\n",
        "First, we load the nearest neighbor library from scikit-learn:"
      ]
    },
    {
      "cell_type": "code",
      "execution_count": 49,
      "metadata": {
        "id": "g93aZmd0EOT-"
      },
      "outputs": [],
      "source": [
        "from sklearn import neighbors"
      ]
    },
    {
      "cell_type": "markdown",
      "metadata": {
        "id": "We8sxRstEOT-"
      },
      "source": [
        "Now, we're going to save our feature data into an array called 'X' and our target data into an array called 'y'. We don't *need* to do this, but it is traditional to think of the problem using this notation."
      ]
    },
    {
      "cell_type": "code",
      "execution_count": 50,
      "metadata": {
        "id": "FszkYRkUEOT-"
      },
      "outputs": [],
      "source": [
        "X = feature_data\n",
        "y = target_data"
      ]
    },
    {
      "cell_type": "markdown",
      "metadata": {
        "id": "sbdtLoJWEOT-"
      },
      "source": [
        "Next, we create our nearest neighbor classifier object:"
      ]
    },
    {
      "cell_type": "code",
      "execution_count": 51,
      "metadata": {
        "id": "g0Lb8XqPEOT-"
      },
      "outputs": [],
      "source": [
        "knn = neighbors.KNeighborsClassifier(n_neighbors=1)"
      ]
    },
    {
      "cell_type": "markdown",
      "metadata": {
        "id": "jP4eJurlEOT_"
      },
      "source": [
        "And then we *fit* it to the data (i.e., train the classifier)."
      ]
    },
    {
      "cell_type": "code",
      "execution_count": 53,
      "metadata": {
        "colab": {
          "base_uri": "https://localhost:8080/",
          "height": 51
        },
        "id": "pYEdSgbfEOT_",
        "outputId": "ab435643-09a5-49b2-8fee-46691fa86f29"
      },
      "outputs": [
        {
          "output_type": "execute_result",
          "data": {
            "text/plain": [
              "KNeighborsClassifier(n_neighbors=1)"
            ],
            "text/html": [
              "<style>#sk-container-id-2 {color: black;background-color: white;}#sk-container-id-2 pre{padding: 0;}#sk-container-id-2 div.sk-toggleable {background-color: white;}#sk-container-id-2 label.sk-toggleable__label {cursor: pointer;display: block;width: 100%;margin-bottom: 0;padding: 0.3em;box-sizing: border-box;text-align: center;}#sk-container-id-2 label.sk-toggleable__label-arrow:before {content: \"▸\";float: left;margin-right: 0.25em;color: #696969;}#sk-container-id-2 label.sk-toggleable__label-arrow:hover:before {color: black;}#sk-container-id-2 div.sk-estimator:hover label.sk-toggleable__label-arrow:before {color: black;}#sk-container-id-2 div.sk-toggleable__content {max-height: 0;max-width: 0;overflow: hidden;text-align: left;background-color: #f0f8ff;}#sk-container-id-2 div.sk-toggleable__content pre {margin: 0.2em;color: black;border-radius: 0.25em;background-color: #f0f8ff;}#sk-container-id-2 input.sk-toggleable__control:checked~div.sk-toggleable__content {max-height: 200px;max-width: 100%;overflow: auto;}#sk-container-id-2 input.sk-toggleable__control:checked~label.sk-toggleable__label-arrow:before {content: \"▾\";}#sk-container-id-2 div.sk-estimator input.sk-toggleable__control:checked~label.sk-toggleable__label {background-color: #d4ebff;}#sk-container-id-2 div.sk-label input.sk-toggleable__control:checked~label.sk-toggleable__label {background-color: #d4ebff;}#sk-container-id-2 input.sk-hidden--visually {border: 0;clip: rect(1px 1px 1px 1px);clip: rect(1px, 1px, 1px, 1px);height: 1px;margin: -1px;overflow: hidden;padding: 0;position: absolute;width: 1px;}#sk-container-id-2 div.sk-estimator {font-family: monospace;background-color: #f0f8ff;border: 1px dotted black;border-radius: 0.25em;box-sizing: border-box;margin-bottom: 0.5em;}#sk-container-id-2 div.sk-estimator:hover {background-color: #d4ebff;}#sk-container-id-2 div.sk-parallel-item::after {content: \"\";width: 100%;border-bottom: 1px solid gray;flex-grow: 1;}#sk-container-id-2 div.sk-label:hover label.sk-toggleable__label {background-color: #d4ebff;}#sk-container-id-2 div.sk-serial::before {content: \"\";position: absolute;border-left: 1px solid gray;box-sizing: border-box;top: 0;bottom: 0;left: 50%;z-index: 0;}#sk-container-id-2 div.sk-serial {display: flex;flex-direction: column;align-items: center;background-color: white;padding-right: 0.2em;padding-left: 0.2em;position: relative;}#sk-container-id-2 div.sk-item {position: relative;z-index: 1;}#sk-container-id-2 div.sk-parallel {display: flex;align-items: stretch;justify-content: center;background-color: white;position: relative;}#sk-container-id-2 div.sk-item::before, #sk-container-id-2 div.sk-parallel-item::before {content: \"\";position: absolute;border-left: 1px solid gray;box-sizing: border-box;top: 0;bottom: 0;left: 50%;z-index: -1;}#sk-container-id-2 div.sk-parallel-item {display: flex;flex-direction: column;z-index: 1;position: relative;background-color: white;}#sk-container-id-2 div.sk-parallel-item:first-child::after {align-self: flex-end;width: 50%;}#sk-container-id-2 div.sk-parallel-item:last-child::after {align-self: flex-start;width: 50%;}#sk-container-id-2 div.sk-parallel-item:only-child::after {width: 0;}#sk-container-id-2 div.sk-dashed-wrapped {border: 1px dashed gray;margin: 0 0.4em 0.5em 0.4em;box-sizing: border-box;padding-bottom: 0.4em;background-color: white;}#sk-container-id-2 div.sk-label label {font-family: monospace;font-weight: bold;display: inline-block;line-height: 1.2em;}#sk-container-id-2 div.sk-label-container {text-align: center;}#sk-container-id-2 div.sk-container {/* jupyter's `normalize.less` sets `[hidden] { display: none; }` but bootstrap.min.css set `[hidden] { display: none !important; }` so we also need the `!important` here to be able to override the default hidden behavior on the sphinx rendered scikit-learn.org. See: https://github.com/scikit-learn/scikit-learn/issues/21755 */display: inline-block !important;position: relative;}#sk-container-id-2 div.sk-text-repr-fallback {display: none;}</style><div id=\"sk-container-id-2\" class=\"sk-top-container\"><div class=\"sk-text-repr-fallback\"><pre>KNeighborsClassifier(n_neighbors=1)</pre><b>In a Jupyter environment, please rerun this cell to show the HTML representation or trust the notebook. <br />On GitHub, the HTML representation is unable to render, please try loading this page with nbviewer.org.</b></div><div class=\"sk-container\" hidden><div class=\"sk-item\"><div class=\"sk-estimator sk-toggleable\"><input class=\"sk-toggleable__control sk-hidden--visually\" id=\"sk-estimator-id-2\" type=\"checkbox\" checked><label for=\"sk-estimator-id-2\" class=\"sk-toggleable__label sk-toggleable__label-arrow\">KNeighborsClassifier</label><div class=\"sk-toggleable__content\"><pre>KNeighborsClassifier(n_neighbors=1)</pre></div></div></div></div></div>"
            ]
          },
          "metadata": {},
          "execution_count": 53
        }
      ],
      "source": [
        "knn.fit(X,y)"
      ]
    },
    {
      "cell_type": "markdown",
      "metadata": {
        "id": "R-zjMUKDEOT_"
      },
      "source": [
        "Now we have a model! If you're new to this, you've officially built your first machine learning model. If you use \"knn.predict(*[[feature array here]]*)\", you can use your trained model to predict the class of a new iris sample.\n",
        "\n",
        "**YOUR TURN:**\n",
        "* What is the predicted class of a new iris sample with feature vector [3,4,5,2]? What is its name? ________________\n",
        "* Do you think this model is overfit or underfit to the iris dataset? Why? ________________\n",
        "* How many neighbors does our model consider when classifying a new sample? ________________"
      ]
    },
    {
      "cell_type": "code",
      "execution_count": 61,
      "metadata": {
        "colab": {
          "base_uri": "https://localhost:8080/"
        },
        "id": "cqfuCWd0I5GJ",
        "outputId": "362a1e7e-7b05-4d89-ef6c-ad612b40323c"
      },
      "outputs": [
        {
          "output_type": "execute_result",
          "data": {
            "text/plain": [
              "array([2])"
            ]
          },
          "metadata": {},
          "execution_count": 61
        }
      ],
      "source": [
        "# Insert code here\n",
        "knn.predict([[3,4,5,2]])"
      ]
    },
    {
      "cell_type": "markdown",
      "metadata": {
        "id": "tECGB052EOUA"
      },
      "source": [
        "As you may have noted in the previous cell, we've trained this classifier on our *entire dataset*. This typically isn't done in practice and results in overfitting to the data. Here's a bit of a tricky question:\n",
        "\n",
        "**YOUR TURN:**\n",
        "* If we use our classifier to predict the classes of the iris samples that were used to train the model itself, what will our overall accuracy be? ________________\n",
        "\n",
        "We can validate our hypothesis fairly easily using either: i) the NumPy technique for calculating accuracy we used earlier in the lab, or ii) scikit-learn's in-house \"accuracy_score()\" function.\n",
        "\n",
        "Let's use our technique first:"
      ]
    },
    {
      "cell_type": "code",
      "execution_count": 54,
      "metadata": {
        "colab": {
          "base_uri": "https://localhost:8080/"
        },
        "id": "W-N4VATDEOUA",
        "outputId": "0a4bdcee-5cd2-4cf0-ed3a-a9d3d050cfd9"
      },
      "outputs": [
        {
          "output_type": "stream",
          "name": "stdout",
          "text": [
            "Accuracy:  100.0 %\n"
          ]
        }
      ],
      "source": [
        "accuracy = np.sum(target_data == knn.predict(feature_data)) / target_data.size\n",
        "print (\"Accuracy: \", accuracy * 100, \"%\")"
      ]
    },
    {
      "cell_type": "markdown",
      "metadata": {
        "id": "oa7hUYINEOUA"
      },
      "source": [
        "and then using scikit-learn's customized function:"
      ]
    },
    {
      "cell_type": "code",
      "execution_count": 55,
      "metadata": {
        "colab": {
          "base_uri": "https://localhost:8080/"
        },
        "id": "ZjccX7kiEOUA",
        "outputId": "83a317d1-db86-49a1-9217-1e6dcdb93acc"
      },
      "outputs": [
        {
          "output_type": "stream",
          "name": "stdout",
          "text": [
            "Accuracy:  100.0 %\n"
          ]
        }
      ],
      "source": [
        "from sklearn.metrics import accuracy_score\n",
        "accuracy = accuracy_score(target_data, knn.predict(feature_data))\n",
        "print (\"Accuracy: \", accuracy * 100, \"%\")"
      ]
    },
    {
      "cell_type": "markdown",
      "metadata": {
        "id": "XQnPrUctEOUB"
      },
      "source": [
        "We see that our classifier has achieved 100% accuracy (and both calculation methods agree)!\n",
        "\n",
        "**DISCUSSION:**\n",
        "* Why do you think the model was able to achieve such a \"great\" result? ______________________\n",
        "* What does this really tell us?  __________________________________\n",
        "* Do you expect the model to perform this well on new data? __________________________________"
      ]
    },
    {
      "cell_type": "markdown",
      "metadata": {
        "id": "hborziLMEOUB"
      },
      "source": [
        "### Cross Validation\n",
        "\n",
        "A popular way to mitigate this overfitting issue is to train your model on *some* of the data (the training set) and validate your model on the remaining data (the validation set). You will then select the model/configuration that performs best on the validation data. The train/validate division of the data is usually done with a 70%/30% split. Often, practitioners will use a third data set, the test set (or hold-out set), to get a sense for how their best model performs on unseen, real-world data. In this scenario, you will tune your models to perform best on the validation set and then test their \"real-world\" performance on the unseen test set.\n",
        "\n",
        "Sometimes applications don't have enough data to do these splits meaningfully (e.g., the test data is only a few samples). In these cases, *cross-validation* is a useful technique (and, indeed, has become standard in machine learning practice).\n",
        "\n",
        "The general premise of \"k-folds\" cross validation is to first divide the entire dataset (grey) into a training set (green) and a test set (unseen data, blue). Then, we divide the training set into different folds and use these folds to form new sub-training and sub-test sets. We select the model configuration that performs the best on all of these. The below figure provides a nice visualization for what's going on here:\n",
        "\n",
        "<img src=\"https://github.com/lyeskhalil/mlbootcamp/blob/master/img/cross-val.png?raw=1\" alt=\"cross-val\" width=\"500\"/>\n"
      ]
    },
    {
      "cell_type": "markdown",
      "metadata": {
        "id": "0bkMRDNQEOUB"
      },
      "source": [
        "Accomplishing k-folds cross validation in scikit-learn is a manageable task. First, we divide our data into a train and test set, then we conduct the cross validation and look at the mean scores across the splits, then we conduct our final evaluation."
      ]
    },
    {
      "cell_type": "code",
      "execution_count": 64,
      "metadata": {
        "id": "YYpxSDnUEOUB"
      },
      "outputs": [],
      "source": [
        "from sklearn.model_selection import train_test_split\n",
        "X_train, X_test, y_train, y_test = train_test_split(feature_data, target_data, test_size=0.3, random_state=0)"
      ]
    },
    {
      "cell_type": "markdown",
      "metadata": {
        "id": "v_ifhLoMEOUB"
      },
      "source": [
        "We have divided our data into two sections: training data (70% of the data) and testing data (30% of the data). Now we will fit our nearest neighbors classifier to the training data with 5 folds and see how it performs."
      ]
    },
    {
      "cell_type": "code",
      "execution_count": 65,
      "metadata": {
        "colab": {
          "base_uri": "https://localhost:8080/"
        },
        "id": "6nDnjfaKEOUB",
        "outputId": "a9ad6bc0-d28f-42c9-97f0-388730649494"
      },
      "outputs": [
        {
          "output_type": "stream",
          "name": "stdout",
          "text": [
            "Accuracy: 0.94 (+/- 0.11)\n"
          ]
        }
      ],
      "source": [
        "from sklearn.model_selection import cross_val_score\n",
        "scores = cross_val_score(knn, X_train, y_train, cv=5)\n",
        "print(\"Accuracy: %0.2f (+/- %0.2f)\" % (scores.mean(), scores.std() * 2))"
      ]
    },
    {
      "cell_type": "markdown",
      "metadata": {
        "id": "kSFriTVTEOUC"
      },
      "source": [
        "Our cross-validated model has an accuracy of 94% across all the splits on the training data. If we think that is a reasonable value, we can train our final model on the training data and then see how it performs on the held-out test data.\n",
        "\n",
        "##### Comparing classifiers\n",
        "However, to get a true sense for the utility of cross-validation, let's create a second nearest neighbors classifier that uses two neighbors instead of one."
      ]
    },
    {
      "cell_type": "code",
      "execution_count": 66,
      "metadata": {
        "colab": {
          "base_uri": "https://localhost:8080/"
        },
        "id": "WoUmuoWHEOUC",
        "outputId": "3c497162-289b-4dc1-f168-01c8fb8fdf8d"
      },
      "outputs": [
        {
          "output_type": "stream",
          "name": "stdout",
          "text": [
            "Accuracy: 0.92 (+/- 0.13)\n"
          ]
        }
      ],
      "source": [
        "knn2 = neighbors.KNeighborsClassifier(n_neighbors=2)\n",
        "scores = cross_val_score(knn2, X_train, y_train, cv=5)\n",
        "print(\"Accuracy: %0.2f (+/- %0.2f)\" % (scores.mean(), scores.std() * 2))"
      ]
    },
    {
      "cell_type": "markdown",
      "metadata": {
        "id": "w8u2IjDXEOUC"
      },
      "source": [
        "As we see above, our second classifier (the one with two neighbors) actually performs worse when cross-validated (92% vs. 94% mean accuracy on the 5 folds)! So, we'll stick with the first one.\n",
        "\n",
        "Let's train it on the training data and use it to predict the final held-out test data."
      ]
    },
    {
      "cell_type": "code",
      "execution_count": 67,
      "metadata": {
        "colab": {
          "base_uri": "https://localhost:8080/"
        },
        "id": "6i7G2Uf6EOUC",
        "outputId": "f20098c9-ea08-4df2-a432-8db30c9034b6"
      },
      "outputs": [
        {
          "output_type": "stream",
          "name": "stdout",
          "text": [
            "Test set accuracy:  97.77777777777777 %\n"
          ]
        }
      ],
      "source": [
        "knn.fit(X_train, y_train)\n",
        "accuracy = accuracy_score(y_test, knn.predict(X_test))\n",
        "print (\"Test set accuracy: \", accuracy * 100, \"%\")"
      ]
    },
    {
      "cell_type": "markdown",
      "metadata": {
        "id": "P5AiO_udEOUD"
      },
      "source": [
        "And we see our model has a 97.7% accuracy on the held out test data (30% of the original dataset).\n",
        "\n",
        "##### Congratulatons!\n",
        "\n",
        "You're finished this lab. On to the next!"
      ]
    }
  ],
  "metadata": {
    "colab": {
      "name": "lab-1-1-basics.ipynb",
      "provenance": []
    },
    "kernelspec": {
      "display_name": "Python 3 (ipykernel)",
      "language": "python",
      "name": "python3"
    },
    "language_info": {
      "codemirror_mode": {
        "name": "ipython",
        "version": 3
      },
      "file_extension": ".py",
      "mimetype": "text/x-python",
      "name": "python",
      "nbconvert_exporter": "python",
      "pygments_lexer": "ipython3",
      "version": "3.8.12"
    }
  },
  "nbformat": 4,
  "nbformat_minor": 0
}